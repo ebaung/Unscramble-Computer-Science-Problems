{
 "cells": [
  {
   "cell_type": "code",
   "execution_count": 1,
   "metadata": {},
   "outputs": [
    {
     "name": "stdout",
     "output_type": "stream",
     "text": [
      "First record of texts, 97424 22395 <incoming number> texts 90365 06212 <answering number> at time 01-09-2016 06:03:22 <time> \n",
      " Last record of calls, 98447 62998 <incoming number> calls (080)46304537 <answering number> at time 30-09-2016 23:57:15 <time>, lasting 2151<during> seconds\n"
     ]
    }
   ],
   "source": [
    "\n",
    "\"\"\"\n",
    "Read file into texts and calls.\n",
    "It's ok if you don't understand how to read files.\n",
    "\"\"\"\n",
    "import csv\n",
    "with open('texts.csv', 'r') as f:\n",
    "    reader = csv.reader(f)\n",
    "    texts = list(reader)\n",
    "\n",
    "with open('calls.csv', 'r') as f:\n",
    "    reader = csv.reader(f)\n",
    "    calls = list(reader)\n",
    "\n",
    "\n",
    "\"\"\"\n",
    "TASK 0:\n",
    "What is the first record of texts and what is the last record of calls?\n",
    "Print messages:\n",
    "\"First record of texts, <incoming number> texts <answering number> at time <time>\"\n",
    "\"Last record of calls, <incoming number> calls <answering number> at time <time>, lasting <during> seconds\"\n",
    "\"\"\"\n",
    "\n",
    "print(\"First record of texts, {} <incoming number> texts {} <answering number> at time {} <time> \\n Last record of calls, {} <incoming number> calls {} <answering number> at time {} <time>, lasting {}<during> seconds\".format(texts[0][0],texts[0][1],texts[0][2],calls[-1][0],calls[-1][1],calls[-1][2],calls[-1][3]))"
   ]
  },
  {
   "cell_type": "code",
   "execution_count": 2,
   "metadata": {},
   "outputs": [
    {
     "name": "stdout",
     "output_type": "stream",
     "text": [
      "['97424 22395', '90365 06212', '01-09-2016 06:03:22']\n"
     ]
    }
   ],
   "source": [
    "print(texts[0])"
   ]
  },
  {
   "cell_type": "code",
   "execution_count": 3,
   "metadata": {},
   "outputs": [
    {
     "name": "stdout",
     "output_type": "stream",
     "text": [
      "['98447 62998', '(080)46304537', '30-09-2016 23:57:15', '2151']\n"
     ]
    }
   ],
   "source": [
    "print(calls[-1])"
   ]
  }
 ],
 "metadata": {
  "kernelspec": {
   "display_name": "Python 3",
   "language": "python",
   "name": "python3"
  },
  "language_info": {
   "codemirror_mode": {
    "name": "ipython",
    "version": 3
   },
   "file_extension": ".py",
   "mimetype": "text/x-python",
   "name": "python",
   "nbconvert_exporter": "python",
   "pygments_lexer": "ipython3",
   "version": "3.7.7"
  }
 },
 "nbformat": 4,
 "nbformat_minor": 4
}
